{
 "cells": [
  {
   "cell_type": "markdown",
   "metadata": {},
   "source": [
    "# Panda Distribution\n",
    "\n",
    "author: bhavesh patel"
   ]
  },
  {
   "cell_type": "markdown",
   "metadata": {},
   "source": [
    "Panda has numpy.random.binomial(n, p, size=None) function to draw samples from a binomial distribution.\n",
    "\n",
    "Let's simulate a condition.  Flip a coin for 20 times.  What are chances that we will get a number (head) more than 15 times during these 20 iteration?  Let's do 5000 simulation of this."
   ]
  },
  {
   "cell_type": "code",
   "execution_count": 1,
   "metadata": {
    "collapsed": false
   },
   "outputs": [
    {
     "name": "stdout",
     "output_type": "stream",
     "text": [
      "[ 8 11  8 ...,  8  9  7]\n",
      "0.0209\n"
     ]
    }
   ],
   "source": [
    "import numpy as np\n",
    "\n",
    "x=np.random.binomial(20,0.5,10000)\n",
    "print(x)  # this give us list of how many times we got a number (head).\n",
    "\n",
    "# now let's find out how many times we got > 15 number.\n",
    "print((x >=15).mean())\n"
   ]
  },
  {
   "cell_type": "markdown",
   "metadata": {},
   "source": [
    "Good resource on normal distribution and standard deviation.\n",
    "https://www.mathsisfun.com/data/standard-normal-distribution.html\n",
    "The Standard Deviation is a measure of how spread out numbers are."
   ]
  },
  {
   "cell_type": "markdown",
   "metadata": {},
   "source": [
    "Formula for standard deviation\n",
    "$$\\sqrt{\\frac{1}{N} \\sum_{i=1}^N (x_i - \\overline{x})^2}$$"
   ]
  },
  {
   "cell_type": "code",
   "execution_count": null,
   "metadata": {
    "collapsed": true
   },
   "outputs": [],
   "source": []
  }
 ],
 "metadata": {
  "anaconda-cloud": {},
  "kernelspec": {
   "display_name": "Python [conda env:python35]",
   "language": "python",
   "name": "conda-env-python35-py"
  },
  "language_info": {
   "codemirror_mode": {
    "name": "ipython",
    "version": 3
   },
   "file_extension": ".py",
   "mimetype": "text/x-python",
   "name": "python",
   "nbconvert_exporter": "python",
   "pygments_lexer": "ipython3",
   "version": "3.5.2"
  }
 },
 "nbformat": 4,
 "nbformat_minor": 2
}
